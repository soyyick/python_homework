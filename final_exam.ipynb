{
 "cells": [
  {
   "cell_type": "markdown",
   "metadata": {},
   "source": [
    "# ข้อสอบปลายภาควิชา การเขียนโปรแกรมเชิงวัตถุ"
   ]
  },
  {
   "cell_type": "code",
   "execution_count": null,
   "metadata": {},
   "outputs": [],
   "source": [
    "\"\"\"\n",
    "ชื่อ - สกุล - รหัส\n",
    "\n",
    "นายอัครพล มนทาทิพย์ 6612732137\n",
    "\"\"\""
   ]
  },
  {
   "cell_type": "markdown",
   "metadata": {},
   "source": [
    "## 1. เขียนโปรแกรมโดยใช้กลไกลการทำงานแบบ OOP ตามข้อกำหนดดังต่อไปนี้\n",
    "\n",
    "- จงสร้างคลาส Person\" ที่มีตัวแปร \"name\" และ \"age\" ซึ่งไม่สามารถเข้าถึงผ่านตัวแปร instance ได้ และเขียน method ที่ใช้สำหรับแก้ไข \"age\" จากภายในคลาส และ \"age\" จะต้องมีค่าเพิ่มขึ้นได้อย่างเดียวเท่านั้น\n",
    "\n",
    "- ภายใน Class Person กำหนดให้มี method ชื่อ getInfo() สำหรับแสดงข้อมูลบุคคลนั้น ๆ"
   ]
  },
  {
   "cell_type": "code",
   "execution_count": 17,
   "metadata": {
    "tags": []
   },
   "outputs": [
    {
     "name": "stdout",
     "output_type": "stream",
     "text": [
      "ชื่อ: John\n",
      "อายุ: 30\n"
     ]
    }
   ],
   "source": [
    "# เขียนโปรแกรมในช่องนี้\n",
    "\n",
    "class Person:\n",
    "    def __init__(self, name, age):\n",
    "        self._name = name\n",
    "        self._age = age\n",
    "\n",
    "    def _set_age(self, new_age):\n",
    "        if new_age >= self._age:\n",
    "            self._age = new_age\n",
    "        else:\n",
    "            print(\"ไม่สามารถลดอายุได้\")\n",
    "\n",
    "    def getInfo(self):\n",
    "        print(f\"ชื่อ: {self._name}\")\n",
    "        print(f\"อายุ: {self._age}\")\n",
    "\n",
    "person1 = Person(\"John\", 30)\n",
    "person1.getInfo()"
   ]
  },
  {
   "cell_type": "code",
   "execution_count": 18,
   "metadata": {
    "tags": []
   },
   "outputs": [
    {
     "name": "stdout",
     "output_type": "stream",
     "text": [
      "ชื่อ: Gun\n",
      "อายุ: 28\n"
     ]
    }
   ],
   "source": [
    "# จงสร้างตัวแปร instance จากคลาส Person\n",
    "\n",
    "person2 = Person(\"Gun\", 28)\n",
    "\n",
    "person2.getInfo()"
   ]
  },
  {
   "cell_type": "code",
   "execution_count": 15,
   "metadata": {
    "tags": []
   },
   "outputs": [
    {
     "name": "stdout",
     "output_type": "stream",
     "text": [
      "ชื่อ: John\n",
      "อายุ: 40\n"
     ]
    }
   ],
   "source": [
    "# จงกำหนดอายุให้แก่ age\n",
    "\n",
    "person1._age = 40\n",
    "\n",
    "person1.getInfo()"
   ]
  },
  {
   "cell_type": "code",
   "execution_count": 4,
   "metadata": {
    "tags": []
   },
   "outputs": [
    {
     "name": "stdout",
     "output_type": "stream",
     "text": [
      "ชื่อ: John\n",
      "อายุ: 40\n"
     ]
    }
   ],
   "source": [
    "# จงแสดงข้่อมูลบุคคลของตัวแปร instance \n",
    "\n",
    "person1.getInfo()"
   ]
  },
  {
   "cell_type": "markdown",
   "metadata": {},
   "source": [
    "## 2.จงสร้างคลาส Student ที่มีการสืบทอดคุณสมบัติจากคลาส Person ในข้อที่ 1\n",
    "\n",
    "- ในคลาส Student จะมีคุณสมบัติเพิ่มเข้ามาดังต่อไปนี้ \"student_id\" คือ รหัสนักศึกษา, \"major\" คือ สาขาวิชา และทั้งสองจะต้องเป็นคุณสมบัติที่ไม่สามารถแก้ไขได้หลังจากสร้างตัวแปร Instance แล้ว\n",
    "\n",
    "- และใน method getInfo() ให้เพิ่มการแแสดง รหัสนักศึกษา และ สาชาวิชา เข้ามาด้วย"
   ]
  },
  {
   "cell_type": "code",
   "execution_count": 33,
   "metadata": {
    "tags": []
   },
   "outputs": [
    {
     "name": "stdout",
     "output_type": "stream",
     "text": [
      "ชื่อ: Gun\n",
      "อายุ: 20\n",
      "รหัสนักศึกษา: 123456\n",
      "สาขาวิชา: Computer Science\n"
     ]
    }
   ],
   "source": [
    "class Person:\n",
    "    def __init__(self, name, age):\n",
    "        self._name = name\n",
    "        self._age = age\n",
    "\n",
    "    @property\n",
    "    def name(self):\n",
    "        return self._name\n",
    "\n",
    "    @property\n",
    "    def age(self):\n",
    "        return self._age\n",
    "\n",
    "    def getInfo(self):\n",
    "        print(f\"ชื่อ: {self._name}\")\n",
    "        print(f\"อายุ: {self._age}\")\n",
    "\n",
    "\n",
    "class Student(Person):\n",
    "    def __init__(self, name, age, student_id, major):\n",
    "        super().__init__(name, age)\n",
    "        self._student_id = student_id\n",
    "        self._major = major\n",
    "\n",
    "    @property\n",
    "    def student_id(self):\n",
    "        return self._student_id\n",
    "\n",
    "    @property\n",
    "    def major(self):\n",
    "        return self._major\n",
    "\n",
    "    def getInfo(self):\n",
    "        super().getInfo()\n",
    "        print(f\"รหัสนักศึกษา: {self._student_id}\")\n",
    "        print(f\"สาขาวิชา: {self._major}\")\n",
    "\n",
    "\n",
    "# ตัวอย่างการใช้งานคลาส Student\n",
    "student1 = Student(\"Gun\", 20, \"123456\", \"Computer Science\")\n",
    "student1.getInfo()\n"
   ]
  },
  {
   "cell_type": "code",
   "execution_count": 10,
   "metadata": {
    "tags": []
   },
   "outputs": [
    {
     "name": "stdout",
     "output_type": "stream",
     "text": [
      "ชื่อ: Gun\n",
      "อายุ: 20\n",
      "รหัสนักศึกษา: 123456\n",
      "สาขาวิชา: Computer Science\n"
     ]
    }
   ],
   "source": [
    "# จงสร้างตัวแปร instance จากคลาส Student\n",
    "\n",
    "student1 = Student(\"Gun\", 20, \"123456\", \"Computer Science\")\n",
    "\n",
    "student1.getInfo()"
   ]
  },
  {
   "cell_type": "code",
   "execution_count": 11,
   "metadata": {
    "tags": []
   },
   "outputs": [
    {
     "name": "stdout",
     "output_type": "stream",
     "text": [
      "ชื่อ: Gun\n",
      "อายุ: 20\n",
      "รหัสนักศึกษา: 123456\n",
      "สาขาวิชา: Computer Science\n"
     ]
    }
   ],
   "source": [
    "# จงแสดงข้่อมูลนักเรียนของตัวแปร instance \n",
    "\n",
    "student1.getInfo()\n"
   ]
  },
  {
   "cell_type": "markdown",
   "metadata": {},
   "source": [
    "## 3.จงสร้างคลาส ComSciStudent ที่มีการสืบทอดคุณสมบัติจากคลาส Student ในข้อที่ 2\n",
    "\n",
    "- ในคลาส ComSciStudent จะมีคุณสมบัติที่รับเข้ามาแค่ \"student_id\" คือ รหัสนักศึกษา, แต่ \"major\" คือ สาขาวิชา จะมีค่า default เป็น \"Computer Science\" และทั้งสองจะต้องเป็นคุณสมบัติที่ไม่สามารถแก้ไขได้หลังจากสร้างตัวแปร Instance แล้ว\n",
    "\n",
    "- ในคลาส ComSciStudent จะมีคุณสมบัติที่เพิ่มเข้ามา อีก 1 ตัว คือ ความถนัด หรือ aptitude เพิ่มเข้ามา ซึ่งจะสามารถกำหนดได้ในกระบวนการสร้างตัวแปร instance และจะสามารถแก้ไขได้อีกโดยการแก้ไขผ่าน method ได้เท่านั้น\n",
    "\n",
    "\n",
    "- ในคลาส ComSciStudent จะมี method ชื่อว่า Coding() ซึ่งจะนำเสนอข้อมูลว่า นักศึกษา รหัสนักศึกษา ชื่อ กำลังเขียนโปรแกรมอยู่\n",
    "\n",
    "- ในคลาส ComSciStudent จะมี method ชื่อว่า getAptitude() ซึ่งจะนำเสนอข้อมูลว่า นักศึกษา รหัสนักศึกษา ชื่อ มีความถนัดเรื่อง ..."
   ]
  },
  {
   "cell_type": "code",
   "execution_count": 21,
   "metadata": {
    "tags": []
   },
   "outputs": [
    {
     "name": "stdout",
     "output_type": "stream",
     "text": [
      "ชื่อ: Gun\n",
      "อายุ: 22\n",
      "รหัสนักศึกษา: 456456\n",
      "สาขาวิชา: Computer Science\n",
      "ภาษาโปรแกรมที่เรียน: Python\n"
     ]
    }
   ],
   "source": [
    "# เขียนโปรแกรมในช่องนี้\n",
    "\n",
    "class ComSciStudent(Student):\n",
    "    def __init__(self, name, age, student_id, major, programming_language):\n",
    "        super().__init__(name, age, student_id, major)\n",
    "        \n",
    "        self._programming_language = programming_language\n",
    "\n",
    "    @property\n",
    "    def programming_language(self):\n",
    "        return self._programming_language\n",
    "\n",
    "    def getInfo(self):\n",
    "        super().getInfo()\n",
    "        print(f\"ภาษาโปรแกรมที่เรียน: {self._programming_language}\")\n",
    "\n",
    "com_sci_student = ComSciStudent(\"Gun\", 22, \"456456\", \"Computer Science\", \"Python\")\n",
    "com_sci_student.getInfo()\n"
   ]
  },
  {
   "cell_type": "code",
   "execution_count": 22,
   "metadata": {
    "tags": []
   },
   "outputs": [
    {
     "name": "stdout",
     "output_type": "stream",
     "text": [
      "ชื่อ: Gun\n",
      "อายุ: 22\n",
      "รหัสนักศึกษา: 456456\n",
      "สาขาวิชา: Computer Science\n",
      "ภาษาโปรแกรมที่เรียน: Python\n"
     ]
    }
   ],
   "source": [
    "# จงสร้างตัวแปร instance จากคลาส ComSciStudent\n",
    "\n",
    "com_sci_student = ComSciStudent(\"Gun\", 22, \"456456\", \"Computer Science\", \"Python\")\n",
    "\n",
    "com_sci_student.getInfo()"
   ]
  },
  {
   "cell_type": "code",
   "execution_count": 24,
   "metadata": {
    "tags": []
   },
   "outputs": [
    {
     "name": "stdout",
     "output_type": "stream",
     "text": [
      "ชื่อ: Gun\n",
      "อายุ: 22\n",
      "รหัสนักศึกษา: 456456\n",
      "สาขาวิชา: Computer Science\n",
      "ภาษาโปรแกรมที่เรียน: Python\n"
     ]
    }
   ],
   "source": [
    "# จงแสดงข้่อมูลนักเรียนของตัวแปร instance \n",
    "\n",
    "com_sci_student.getInfo()"
   ]
  },
  {
   "cell_type": "code",
   "execution_count": 26,
   "metadata": {
    "tags": []
   },
   "outputs": [
    {
     "name": "stdout",
     "output_type": "stream",
     "text": [
      "ชื่อ: Gun\n",
      "อายุ: 22\n",
      "รหัสนักศึกษา: 456456\n",
      "สาขาวิชา: Computer Science\n",
      "Gun รหัสนักศึกษา 456456 กำลังเขียนโปรแกรมอยู่\n"
     ]
    }
   ],
   "source": [
    "# จงแสดงการ coding\n",
    "\n",
    "class ComSciStudent(Student):\n",
    "    def __init__(self, name, age, student_id, major, programming_language):\n",
    "        super().__init__(name, age, student_id, major)\n",
    "        self._programming_language = programming_language\n",
    "\n",
    "    @property\n",
    "    def programming_language(self):\n",
    "        return self._programming_language\n",
    "\n",
    "    def Coding(self):\n",
    "        print(f\"{self._name} รหัสนักศึกษา {self._student_id} กำลังเขียนโปรแกรมอยู่\")\n",
    "\n",
    "com_sci_student = ComSciStudent(\"Gun\", 22, \"456456\", \"Computer Science\", \"Python\")\n",
    "\n",
    "com_sci_student.getInfo()\n",
    "\n",
    "com_sci_student.Coding()\n"
   ]
  },
  {
   "cell_type": "code",
   "execution_count": 28,
   "metadata": {
    "tags": []
   },
   "outputs": [
    {
     "name": "stdout",
     "output_type": "stream",
     "text": [
      "ชื่อ: Gun\n",
      "อายุ: 22\n",
      "รหัสนักศึกษา: 456456\n",
      "สาขาวิชา: Computer Science\n",
      "Gun รหัสนักศึกษา 456456 มีความถนัดเรื่อง Web Development\n"
     ]
    }
   ],
   "source": [
    "# จงแสดงความถนัด\n",
    "\n",
    "class ComSciStudent(Student):\n",
    "    def __init__(self, name, age, student_id, major, aptitude, programming_language):\n",
    "        super().__init__(name, age, student_id, major)\n",
    "        self._aptitude = aptitude\n",
    "        self._programming_language = programming_language\n",
    "    @property\n",
    "    def aptitude(self):\n",
    "        return self._aptitude\n",
    "    @property\n",
    "    def programming_language(self):\n",
    "        return self._programming_language\n",
    "    def getAptitude(self):\n",
    "        print(f\"{self._name} รหัสนักศึกษา {self._student_id} มีความถนัดเรื่อง {self._aptitude}\")\n",
    "\n",
    "com_sci_student = ComSciStudent(\"Gun\", 22, \"456456\", \"Computer Science\", \"Web Development\", \"Python\")\n",
    "com_sci_student.getInfo()\n",
    "com_sci_student.getAptitude()\n"
   ]
  },
  {
   "cell_type": "code",
   "execution_count": 34,
   "metadata": {
    "tags": []
   },
   "outputs": [
    {
     "name": "stdout",
     "output_type": "stream",
     "text": [
      "ชื่อ: Gun\n",
      "อายุ: 22\n",
      "รหัสนักศึกษา: 456456\n",
      "สาขาวิชา: Computer Science\n",
      "Gun รหัสนักศึกษา 456456 มีความถนัดเรื่อง Python Programming\n"
     ]
    }
   ],
   "source": [
    "# จงแก้ไขความถนัด ให้เป็น Python Programing\n",
    "\n",
    "class ComSciStudent(Student):\n",
    "    def __init__(self, name, age, student_id, major, programming_language):\n",
    "        super().__init__(name, age, student_id, major)\n",
    "        self._programming_language = programming_language\n",
    "\n",
    "    @property\n",
    "    def programming_language(self):\n",
    "        return self._programming_language\n",
    "\n",
    "    def getAptitude(self):\n",
    "        return \"Python Programming\"\n",
    "\n",
    "com_sci_student = ComSciStudent(\"Gun\", 22, \"456456\", \"Computer Science\", \"Python\")\n",
    "com_sci_student.getInfo()\n",
    "print(f\"{com_sci_student.name} รหัสนักศึกษา {com_sci_student.student_id} มีความถนัดเรื่อง {com_sci_student.getAptitude()}\")\n"
   ]
  },
  {
   "cell_type": "code",
   "execution_count": null,
   "metadata": {},
   "outputs": [],
   "source": []
  },
  {
   "cell_type": "code",
   "execution_count": null,
   "metadata": {},
   "outputs": [],
   "source": []
  }
 ],
 "metadata": {
  "kernelspec": {
   "display_name": "Python 3 (ipykernel)",
   "language": "python",
   "name": "python3"
  },
  "language_info": {
   "codemirror_mode": {
    "name": "ipython",
    "version": 3
   },
   "file_extension": ".py",
   "mimetype": "text/x-python",
   "name": "python",
   "nbconvert_exporter": "python",
   "pygments_lexer": "ipython3",
   "version": "3.11.5"
  }
 },
 "nbformat": 4,
 "nbformat_minor": 4
}

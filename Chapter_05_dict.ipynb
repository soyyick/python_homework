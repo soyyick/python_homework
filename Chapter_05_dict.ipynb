{
 "cells": [
  {
   "cell_type": "markdown",
   "id": "b444a2b1-1b6d-4176-8d1f-530254acfdc5",
   "metadata": {},
   "source": [
    "# แบบฝึกหัด บทที่ 5 ตัวแปรและประเภทข้อมูล (Dictionary)"
   ]
  },
  {
   "cell_type": "markdown",
   "id": "5ab4fd93-b197-4f6f-9693-54bcf4a54c72",
   "metadata": {},
   "source": [
    "\"\"\"\n",
    "ชื่อ - สกุล - รหัส\n",
    "นายอัครพล มนทาทิพย์ 6612732137\n",
    "\n",
    "\"\"\""
   ]
  },
  {
   "cell_type": "markdown",
   "id": "ee56ed63-0dad-4888-abb3-dac078c0177c",
   "metadata": {},
   "source": [
    "## 1.\tจงแปลงข้อมูลต่อไปนี้ให้เป็น Dictionary"
   ]
  },
  {
   "cell_type": "code",
   "execution_count": 3,
   "id": "94428f7b-4992-4b2f-9ee0-065385e26a1c",
   "metadata": {},
   "outputs": [
    {
     "data": {
      "text/plain": [
       "' \\n6611127320001 นาย ศักรินทร์ หาญทอง โรงเรียนวัดหลวงวิทยา\\n6611127320002 นาย ทวีพรโชค ดาวจันทร โรงเรียนนาเเก้ววิทยา\\n6611127320003 นาย ฐิราชัย พลหาญ โรงเรียนโขงเจียมวิทยาคม\\n6611127320004 นาย ชานนท์ รูปคุ้ม โรงเรียนบ้านกันทรารมย์\\n'"
      ]
     },
     "execution_count": 3,
     "metadata": {},
     "output_type": "execute_result"
    }
   ],
   "source": [
    "\"\"\" \n",
    "6611127320001 นาย ศักรินทร์ หาญทอง โรงเรียนวัดหลวงวิทยา\n",
    "6611127320002 นาย ทวีพรโชค ดาวจันทร โรงเรียนนาเเก้ววิทยา\n",
    "6611127320003 นาย ฐิราชัย พลหาญ โรงเรียนโขงเจียมวิทยาคม\n",
    "6611127320004 นาย ชานนท์ รูปคุ้ม โรงเรียนบ้านกันทรารมย์\n",
    "\"\"\""
   ]
  },
  {
   "cell_type": "code",
   "execution_count": 1,
   "id": "e1e84ee5-5a94-4245-bbeb-72aa64fd1413",
   "metadata": {
    "tags": []
   },
   "outputs": [],
   "source": [
    "# คำตอบ\n",
    "my_dict = {\n",
    "    '6611127320001' : {\n",
    "        'prefix' : 'นาย',\n",
    "        'name' : 'ศักรินทร์',\n",
    "        'lname' : 'หาญทอง',\n",
    "        'school' : 'โรงเรียนวัดหลวงวิทยา',\n",
    "    },\n",
    "    '6611127320002' : {\n",
    "        'prefix' : 'นาย',\n",
    "        'name' : 'ทวีพรโชค',\n",
    "        'lname' : 'ดาวจันทร',\n",
    "        'school' : 'โรงเรียนนาเเก้ววิทยา',\n",
    "    },\n",
    "    '6611127320003' : {\n",
    "        'prefix' : 'นาย',\n",
    "        'name' : 'ฐิราชัย',\n",
    "        'lname' : 'พลหาญ',\n",
    "        'school' : 'โรงเรียนโขงเจียมวิทยาคม',\n",
    "    },\n",
    "    '6611127320004' : {\n",
    "        'preifx' : 'นาย',\n",
    "        'name' : 'ชานนท์',\n",
    "        'lname' : 'รูปคุ้ม',\n",
    "        'school' : 'โรงเรียนบ้านกันทรารมย์',\n",
    "    }\n",
    "}\n"
   ]
  },
  {
   "cell_type": "markdown",
   "id": "84f776e2-52c8-471d-867f-4215479ec8ff",
   "metadata": {},
   "source": [
    "## 2.จงแสดงวิธีการเข้าถึงเข้ามูลรายบุคคล"
   ]
  },
  {
   "cell_type": "code",
   "execution_count": 2,
   "id": "cbc8398d-c456-4868-972a-9977a7fd5d8a",
   "metadata": {
    "tags": []
   },
   "outputs": [
    {
     "data": {
      "text/plain": [
       "'ฐิราชัย'"
      ]
     },
     "execution_count": 2,
     "metadata": {},
     "output_type": "execute_result"
    }
   ],
   "source": [
    "my_dict.get('6611127320003').get('name')\n",
    "\n"
   ]
  },
  {
   "cell_type": "code",
   "execution_count": 3,
   "id": "49a210ae-05eb-48db-b5a8-0b4fc21cd001",
   "metadata": {
    "tags": []
   },
   "outputs": [
    {
     "name": "stdout",
     "output_type": "stream",
     "text": [
      "6611127320001 นาย ศักรินทร์ หาญทอง โรงเรียนวัดหลวงวิทยา\n",
      "6611127320002 นาย ทวีพรโชค ดาวจันทร โรงเรียนนาเเก้ววิทยา\n",
      "6611127320003 นาย ฐิราชัย พลหาญ โรงเรียนโขงเจียมวิทยาคม\n",
      "6611127320004 None ชานนท์ รูปคุ้ม โรงเรียนบ้านกันทรารมย์\n"
     ]
    }
   ],
   "source": [
    "my_dict.keys()\n",
    "\n",
    "for key in my_dict.keys():\n",
    "    print(\"{} {} {} {} {}\".format(\n",
    "        key,\n",
    "        my_dict.get(key).get(\"prefix\"),\n",
    "        my_dict.get(key).get(\"name\"),\n",
    "        my_dict.get(key).get(\"lname\"),\n",
    "        my_dict.get(key).get(\"school\"),\n",
    "    ))"
   ]
  },
  {
   "cell_type": "code",
   "execution_count": null,
   "id": "a55d05f5-3643-42d4-9ffb-093da96710ba",
   "metadata": {},
   "outputs": [],
   "source": []
  }
 ],
 "metadata": {
  "kernelspec": {
   "display_name": "Python 3 (ipykernel)",
   "language": "python",
   "name": "python3"
  },
  "language_info": {
   "codemirror_mode": {
    "name": "ipython",
    "version": 3
   },
   "file_extension": ".py",
   "mimetype": "text/x-python",
   "name": "python",
   "nbconvert_exporter": "python",
   "pygments_lexer": "ipython3",
   "version": "3.11.5"
  }
 },
 "nbformat": 4,
 "nbformat_minor": 5
}

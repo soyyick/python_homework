{
 "cells": [
  {
   "cell_type": "code",
   "execution_count": 1,
   "id": "8a0aefe2-5426-4b90-8acf-581adafad31f",
   "metadata": {
    "tags": []
   },
   "outputs": [
    {
     "data": {
      "text/plain": [
       "'งานแรก นายอัครพล มนทาทิพย์ 6612732137'"
      ]
     },
     "execution_count": 1,
     "metadata": {},
     "output_type": "execute_result"
    }
   ],
   "source": [
    "\"งานแรก นายอัครพล มนทาทิพย์ 6612732137\""
   ]
  },
  {
   "cell_type": "code",
   "execution_count": null,
   "id": "945e496f-14b6-46b3-9d1f-3c30aeef1413",
   "metadata": {},
   "outputs": [],
   "source": []
  }
 ],
 "metadata": {
  "kernelspec": {
   "display_name": "Python 3 (ipykernel)",
   "language": "python",
   "name": "python3"
  },
  "language_info": {
   "codemirror_mode": {
    "name": "ipython",
    "version": 3
   },
   "file_extension": ".py",
   "mimetype": "text/x-python",
   "name": "python",
   "nbconvert_exporter": "python",
   "pygments_lexer": "ipython3",
   "version": "3.11.5"
  }
 },
 "nbformat": 4,
 "nbformat_minor": 5
}
